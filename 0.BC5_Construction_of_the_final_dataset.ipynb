{
 "cells": [
  {
   "cell_type": "code",
   "execution_count": null,
   "metadata": {
    "id": "lG28AQxShU3v"
   },
   "outputs": [],
   "source": [
    "import numpy as np\n",
    "import pandas as pd\n",
    "import seaborn as sns\n",
    "import matplotlib.pyplot as plt"
   ]
  },
  {
   "cell_type": "code",
   "execution_count": null,
   "metadata": {
    "id": "6Shte7DPhU4p"
   },
   "outputs": [],
   "source": [
    "retail12=pd.read_csv(\"retail12.csv\")\n",
    "retail13=pd.read_csv(\"retail13.csv\")\n",
    "retail14=pd.read_csv(\"retail14.csv\")\n",
    "retail15=pd.read_csv(\"retail15.csv\")\n",
    "retail16=pd.read_csv(\"retail16.csv\")\n",
    "retail17=pd.read_csv(\"retail17.csv\")\n",
    "retail18=pd.read_csv(\"retail18.csv\")"
   ]
  },
  {
   "cell_type": "code",
   "execution_count": null,
   "metadata": {
    "id": "hMZA-CgchU4p"
   },
   "outputs": [],
   "source": [
    "retail0=pd.read_csv(\"PIVOT0.csv\")\n",
    "retail1=pd.read_csv(\"PIVOT1.csv\")\n",
    "retail2=pd.read_csv(\"PIVOT2.csv\")\n",
    "retail3=pd.read_csv(\"PIVOT3.csv\")\n",
    "retail4=pd.read_csv(\"PIVOT4.csv\")\n",
    "retail5=pd.read_csv(\"PIVOT5.csv\")\n",
    "retail6=pd.read_csv(\"BC5_b6.csv\")"
   ]
  },
  {
   "cell_type": "code",
   "execution_count": null,
   "metadata": {
    "id": "y_GyBC0bhU4q"
   },
   "outputs": [],
   "source": [
    "retail7=pd.read_csv(\"PIVOT7.csv\")\n",
    "retail8=pd.read_csv(\"BC5_b8.csv\")\n",
    "retail9=pd.read_csv(\"BC5_b9.csv\")\n",
    "retail10=pd.read_csv(\"BC5_b10.csv\")\n",
    "retail11=pd.read_csv(\"BC5_b11.csv\")"
   ]
  },
  {
   "cell_type": "code",
   "execution_count": null,
   "metadata": {
    "id": "PPYenUFUhU4q"
   },
   "outputs": [],
   "source": [
    "retail0=retail0.drop(columns={\"Unnamed: 0\"})\n",
    "retail1=retail1.drop(columns={\"Unnamed: 0\"})\n",
    "retail2=retail2.drop(columns={\"Unnamed: 0\"})\n",
    "retail3=retail3.drop(columns={\"Unnamed: 0\"})\n",
    "retail4=retail4.drop(columns={\"Unnamed: 0\"})\n",
    "retail5=retail5.drop(columns={\"Unnamed: 0\"})\n",
    "retail12=retail12.drop(columns={\"Unnamed: 0\"})\n",
    "retail13=retail13.drop(columns={\"Unnamed: 0\"})\n",
    "retail14=retail14.drop(columns={\"Unnamed: 0\"})\n",
    "retail15=retail15.drop(columns={\"Unnamed: 0\"})\n",
    "retail16=retail16.drop(columns={\"Unnamed: 0\"})\n",
    "retail17=retail17.drop(columns={\"Unnamed: 0\"})\n",
    "retail18=retail18.drop(columns={\"Unnamed: 0\"})"
   ]
  },
  {
   "cell_type": "code",
   "execution_count": null,
   "metadata": {
    "id": "EMH6377DhU4q"
   },
   "outputs": [],
   "source": [
    "pdList = [retail0,retail1,retail2,retail3,retail4,retail5,retail6,retail7,retail8,retail9,retail10,retail11,retail12,retail14,retail15,retail16,retail17,retail18] \n",
    "# List of the dataframes\n",
    "retail_df = pd.concat(pdList)"
   ]
  },
  {
   "cell_type": "code",
   "execution_count": null,
   "metadata": {
    "id": "CVCu356NhU4q",
    "outputId": "0dbe6f91-9599-4a90-8033-0e293543824f"
   },
   "outputs": [
    {
     "data": {
      "text/plain": [
       "(86161530, 9)"
      ]
     },
     "execution_count": 9,
     "metadata": {
      "tags": []
     },
     "output_type": "execute_result"
    }
   ],
   "source": [
    "retail_df.shape"
   ]
  },
  {
   "cell_type": "code",
   "execution_count": null,
   "metadata": {
    "id": "w6B4sK4MhU4q",
    "outputId": "a1119bb5-ffdf-4466-eb8a-367852b0e97e"
   },
   "outputs": [
    {
     "data": {
      "text/html": [
       "<div>\n",
       "<style scoped>\n",
       "    .dataframe tbody tr th:only-of-type {\n",
       "        vertical-align: middle;\n",
       "    }\n",
       "\n",
       "    .dataframe tbody tr th {\n",
       "        vertical-align: top;\n",
       "    }\n",
       "\n",
       "    .dataframe thead th {\n",
       "        text-align: right;\n",
       "    }\n",
       "</style>\n",
       "<table border=\"1\" class=\"dataframe\">\n",
       "  <thead>\n",
       "    <tr style=\"text-align: right;\">\n",
       "      <th></th>\n",
       "      <th>ProductFamily_ID</th>\n",
       "      <th>ProductCategory_ID</th>\n",
       "      <th>ProductBrand_ID</th>\n",
       "      <th>ProductName_ID</th>\n",
       "      <th>ProductPackSKU_ID</th>\n",
       "      <th>Point-of-Sale_ID</th>\n",
       "      <th>Date</th>\n",
       "      <th>units</th>\n",
       "      <th>values</th>\n",
       "    </tr>\n",
       "  </thead>\n",
       "  <tbody>\n",
       "    <tr>\n",
       "      <th>0</th>\n",
       "      <td>1</td>\n",
       "      <td>33</td>\n",
       "      <td>313</td>\n",
       "      <td>657</td>\n",
       "      <td>1984</td>\n",
       "      <td>2</td>\n",
       "      <td>2018-06-21</td>\n",
       "      <td>1.0</td>\n",
       "      <td>655.0</td>\n",
       "    </tr>\n",
       "    <tr>\n",
       "      <th>1</th>\n",
       "      <td>1</td>\n",
       "      <td>33</td>\n",
       "      <td>313</td>\n",
       "      <td>657</td>\n",
       "      <td>1984</td>\n",
       "      <td>2</td>\n",
       "      <td>2018-08-08</td>\n",
       "      <td>1.0</td>\n",
       "      <td>655.0</td>\n",
       "    </tr>\n",
       "    <tr>\n",
       "      <th>2</th>\n",
       "      <td>1</td>\n",
       "      <td>33</td>\n",
       "      <td>313</td>\n",
       "      <td>657</td>\n",
       "      <td>1984</td>\n",
       "      <td>2</td>\n",
       "      <td>2018-08-23</td>\n",
       "      <td>1.0</td>\n",
       "      <td>655.0</td>\n",
       "    </tr>\n",
       "    <tr>\n",
       "      <th>3</th>\n",
       "      <td>1</td>\n",
       "      <td>33</td>\n",
       "      <td>313</td>\n",
       "      <td>657</td>\n",
       "      <td>1984</td>\n",
       "      <td>2</td>\n",
       "      <td>2018-10-07</td>\n",
       "      <td>1.0</td>\n",
       "      <td>655.0</td>\n",
       "    </tr>\n",
       "    <tr>\n",
       "      <th>4</th>\n",
       "      <td>1</td>\n",
       "      <td>33</td>\n",
       "      <td>313</td>\n",
       "      <td>657</td>\n",
       "      <td>1984</td>\n",
       "      <td>2</td>\n",
       "      <td>2018-12-15</td>\n",
       "      <td>1.0</td>\n",
       "      <td>655.0</td>\n",
       "    </tr>\n",
       "  </tbody>\n",
       "</table>\n",
       "</div>"
      ],
      "text/plain": [
       "   ProductFamily_ID  ProductCategory_ID  ProductBrand_ID  ProductName_ID  \\\n",
       "0                 1                  33              313             657   \n",
       "1                 1                  33              313             657   \n",
       "2                 1                  33              313             657   \n",
       "3                 1                  33              313             657   \n",
       "4                 1                  33              313             657   \n",
       "\n",
       "   ProductPackSKU_ID  Point-of-Sale_ID        Date  units  values  \n",
       "0               1984                 2  2018-06-21    1.0   655.0  \n",
       "1               1984                 2  2018-08-08    1.0   655.0  \n",
       "2               1984                 2  2018-08-23    1.0   655.0  \n",
       "3               1984                 2  2018-10-07    1.0   655.0  \n",
       "4               1984                 2  2018-12-15    1.0   655.0  "
      ]
     },
     "execution_count": 10,
     "metadata": {
      "tags": []
     },
     "output_type": "execute_result"
    }
   ],
   "source": [
    "retail_df.head()"
   ]
  },
  {
   "cell_type": "code",
   "execution_count": null,
   "metadata": {
    "id": "4QVzT730hU4r"
   },
   "outputs": [],
   "source": [
    "retail_df.to_csv(r'C:\\Users\\sorai\\Downloads\\retail_df.csv')"
   ]
  },
  {
   "cell_type": "code",
   "execution_count": null,
   "metadata": {
    "id": "AJI-ctyWhU4r"
   },
   "outputs": [],
   "source": [
    "retail_df=pd.read_csv(\"retail_df.csv\")"
   ]
  },
  {
   "cell_type": "code",
   "execution_count": null,
   "metadata": {
    "id": "Imxjj30dhU4r",
    "outputId": "b71d1c54-65fa-435e-cd4f-69f7b86b8083"
   },
   "outputs": [
    {
     "name": "stdout",
     "output_type": "stream",
     "text": [
      "<class 'pandas.core.frame.DataFrame'>\n",
      "RangeIndex: 86161530 entries, 0 to 86161529\n",
      "Data columns (total 10 columns):\n",
      " #   Column              Dtype  \n",
      "---  ------              -----  \n",
      " 0   Unnamed: 0          int64  \n",
      " 1   ProductFamily_ID    int64  \n",
      " 2   ProductCategory_ID  int64  \n",
      " 3   ProductBrand_ID     int64  \n",
      " 4   ProductName_ID      int64  \n",
      " 5   ProductPackSKU_ID   int64  \n",
      " 6   Point-of-Sale_ID    int64  \n",
      " 7   Date                object \n",
      " 8   units               float64\n",
      " 9   values              float64\n",
      "dtypes: float64(2), int64(7), object(1)\n",
      "memory usage: 6.4+ GB\n"
     ]
    }
   ],
   "source": [
    "retail_df.info()"
   ]
  },
  {
   "cell_type": "code",
   "execution_count": null,
   "metadata": {
    "id": "HrUy7J8ThU4r"
   },
   "outputs": [],
   "source": [
    "from datetime import datetime\n",
    "retail_df['Date']= pd.to_datetime(retail_df['Date'])"
   ]
  },
  {
   "cell_type": "code",
   "execution_count": null,
   "metadata": {
    "id": "AmaQ-xfThU4r"
   },
   "outputs": [],
   "source": [
    "retail_df.info()"
   ]
  },
  {
   "cell_type": "code",
   "execution_count": null,
   "metadata": {
    "id": "KUFB14OzhU4s",
    "outputId": "716bb3c4-9e87-42fc-bfe0-110ed66bde1d"
   },
   "outputs": [
    {
     "data": {
      "text/html": [
       "<div>\n",
       "<style scoped>\n",
       "    .dataframe tbody tr th:only-of-type {\n",
       "        vertical-align: middle;\n",
       "    }\n",
       "\n",
       "    .dataframe tbody tr th {\n",
       "        vertical-align: top;\n",
       "    }\n",
       "\n",
       "    .dataframe thead th {\n",
       "        text-align: right;\n",
       "    }\n",
       "</style>\n",
       "<table border=\"1\" class=\"dataframe\">\n",
       "  <thead>\n",
       "    <tr style=\"text-align: right;\">\n",
       "      <th></th>\n",
       "      <th>ProductFamily_ID</th>\n",
       "      <th>ProductCategory_ID</th>\n",
       "      <th>ProductBrand_ID</th>\n",
       "      <th>ProductName_ID</th>\n",
       "      <th>ProductPackSKU_ID</th>\n",
       "      <th>Point-of-Sale_ID</th>\n",
       "      <th>Date</th>\n",
       "      <th>units</th>\n",
       "      <th>values</th>\n",
       "    </tr>\n",
       "  </thead>\n",
       "  <tbody>\n",
       "    <tr>\n",
       "      <th>0</th>\n",
       "      <td>1</td>\n",
       "      <td>33</td>\n",
       "      <td>313</td>\n",
       "      <td>657</td>\n",
       "      <td>1984</td>\n",
       "      <td>2</td>\n",
       "      <td>2018-06-21</td>\n",
       "      <td>1.0</td>\n",
       "      <td>655.0</td>\n",
       "    </tr>\n",
       "    <tr>\n",
       "      <th>1</th>\n",
       "      <td>1</td>\n",
       "      <td>33</td>\n",
       "      <td>313</td>\n",
       "      <td>657</td>\n",
       "      <td>1984</td>\n",
       "      <td>2</td>\n",
       "      <td>2018-08-08</td>\n",
       "      <td>1.0</td>\n",
       "      <td>655.0</td>\n",
       "    </tr>\n",
       "    <tr>\n",
       "      <th>2</th>\n",
       "      <td>1</td>\n",
       "      <td>33</td>\n",
       "      <td>313</td>\n",
       "      <td>657</td>\n",
       "      <td>1984</td>\n",
       "      <td>2</td>\n",
       "      <td>2018-08-23</td>\n",
       "      <td>1.0</td>\n",
       "      <td>655.0</td>\n",
       "    </tr>\n",
       "    <tr>\n",
       "      <th>3</th>\n",
       "      <td>1</td>\n",
       "      <td>33</td>\n",
       "      <td>313</td>\n",
       "      <td>657</td>\n",
       "      <td>1984</td>\n",
       "      <td>2</td>\n",
       "      <td>2018-10-07</td>\n",
       "      <td>1.0</td>\n",
       "      <td>655.0</td>\n",
       "    </tr>\n",
       "    <tr>\n",
       "      <th>4</th>\n",
       "      <td>1</td>\n",
       "      <td>33</td>\n",
       "      <td>313</td>\n",
       "      <td>657</td>\n",
       "      <td>1984</td>\n",
       "      <td>2</td>\n",
       "      <td>2018-12-15</td>\n",
       "      <td>1.0</td>\n",
       "      <td>655.0</td>\n",
       "    </tr>\n",
       "  </tbody>\n",
       "</table>\n",
       "</div>"
      ],
      "text/plain": [
       "   ProductFamily_ID  ProductCategory_ID  ProductBrand_ID  ProductName_ID  \\\n",
       "0                 1                  33              313             657   \n",
       "1                 1                  33              313             657   \n",
       "2                 1                  33              313             657   \n",
       "3                 1                  33              313             657   \n",
       "4                 1                  33              313             657   \n",
       "\n",
       "   ProductPackSKU_ID  Point-of-Sale_ID       Date  units  values  \n",
       "0               1984                 2 2018-06-21    1.0   655.0  \n",
       "1               1984                 2 2018-08-08    1.0   655.0  \n",
       "2               1984                 2 2018-08-23    1.0   655.0  \n",
       "3               1984                 2 2018-10-07    1.0   655.0  \n",
       "4               1984                 2 2018-12-15    1.0   655.0  "
      ]
     },
     "execution_count": 16,
     "metadata": {
      "tags": []
     },
     "output_type": "execute_result"
    }
   ],
   "source": [
    "retail_df.head()"
   ]
  },
  {
   "cell_type": "code",
   "execution_count": null,
   "metadata": {
    "id": "vlD-72BNhU4s",
    "outputId": "dc7db996-eb41-4f5b-a3bd-86223653d1ac",
    "scrolled": false
   },
   "outputs": [
    {
     "data": {
      "text/html": [
       "<div>\n",
       "<style scoped>\n",
       "    .dataframe tbody tr th:only-of-type {\n",
       "        vertical-align: middle;\n",
       "    }\n",
       "\n",
       "    .dataframe tbody tr th {\n",
       "        vertical-align: top;\n",
       "    }\n",
       "\n",
       "    .dataframe thead th {\n",
       "        text-align: right;\n",
       "    }\n",
       "</style>\n",
       "<table border=\"1\" class=\"dataframe\">\n",
       "  <thead>\n",
       "    <tr style=\"text-align: right;\">\n",
       "      <th></th>\n",
       "      <th>Unnamed: 0</th>\n",
       "      <th>ProductFamily_ID</th>\n",
       "      <th>ProductCategory_ID</th>\n",
       "      <th>ProductBrand_ID</th>\n",
       "      <th>ProductName_ID</th>\n",
       "      <th>ProductPackSKU_ID</th>\n",
       "      <th>Point-of-Sale_ID</th>\n",
       "      <th>Date</th>\n",
       "      <th>units</th>\n",
       "      <th>values</th>\n",
       "    </tr>\n",
       "  </thead>\n",
       "  <tbody>\n",
       "    <tr>\n",
       "      <th>50001740</th>\n",
       "      <td>7765</td>\n",
       "      <td>1</td>\n",
       "      <td>33</td>\n",
       "      <td>1092</td>\n",
       "      <td>2008</td>\n",
       "      <td>6099</td>\n",
       "      <td>240</td>\n",
       "      <td>2016-01-01</td>\n",
       "      <td>1.0</td>\n",
       "      <td>450.0</td>\n",
       "    </tr>\n",
       "    <tr>\n",
       "      <th>34562341</th>\n",
       "      <td>4566618</td>\n",
       "      <td>21</td>\n",
       "      <td>22</td>\n",
       "      <td>1425</td>\n",
       "      <td>2665</td>\n",
       "      <td>8218</td>\n",
       "      <td>123</td>\n",
       "      <td>2016-01-01</td>\n",
       "      <td>3.0</td>\n",
       "      <td>2580.0</td>\n",
       "    </tr>\n",
       "    <tr>\n",
       "      <th>64625282</th>\n",
       "      <td>4632023</td>\n",
       "      <td>21</td>\n",
       "      <td>122</td>\n",
       "      <td>779</td>\n",
       "      <td>1514</td>\n",
       "      <td>4620</td>\n",
       "      <td>282</td>\n",
       "      <td>2016-01-01</td>\n",
       "      <td>1.0</td>\n",
       "      <td>7899.0</td>\n",
       "    </tr>\n",
       "    <tr>\n",
       "      <th>28760279</th>\n",
       "      <td>3763898</td>\n",
       "      <td>14</td>\n",
       "      <td>27</td>\n",
       "      <td>226</td>\n",
       "      <td>481</td>\n",
       "      <td>1572</td>\n",
       "      <td>110</td>\n",
       "      <td>2016-01-01</td>\n",
       "      <td>4.0</td>\n",
       "      <td>2510.0</td>\n",
       "    </tr>\n",
       "    <tr>\n",
       "      <th>19114554</th>\n",
       "      <td>4116538</td>\n",
       "      <td>16</td>\n",
       "      <td>11</td>\n",
       "      <td>950</td>\n",
       "      <td>1807</td>\n",
       "      <td>5457</td>\n",
       "      <td>78</td>\n",
       "      <td>2016-01-01</td>\n",
       "      <td>1.0</td>\n",
       "      <td>780.0</td>\n",
       "    </tr>\n",
       "    <tr>\n",
       "      <th>...</th>\n",
       "      <td>...</td>\n",
       "      <td>...</td>\n",
       "      <td>...</td>\n",
       "      <td>...</td>\n",
       "      <td>...</td>\n",
       "      <td>...</td>\n",
       "      <td>...</td>\n",
       "      <td>...</td>\n",
       "      <td>...</td>\n",
       "      <td>...</td>\n",
       "    </tr>\n",
       "    <tr>\n",
       "      <th>56986227</th>\n",
       "      <td>1992745</td>\n",
       "      <td>9</td>\n",
       "      <td>178</td>\n",
       "      <td>1066</td>\n",
       "      <td>1976</td>\n",
       "      <td>6023</td>\n",
       "      <td>260</td>\n",
       "      <td>2019-11-01</td>\n",
       "      <td>1.0</td>\n",
       "      <td>950.0</td>\n",
       "    </tr>\n",
       "    <tr>\n",
       "      <th>57773839</th>\n",
       "      <td>2780357</td>\n",
       "      <td>12</td>\n",
       "      <td>178</td>\n",
       "      <td>381</td>\n",
       "      <td>770</td>\n",
       "      <td>2318</td>\n",
       "      <td>260</td>\n",
       "      <td>2019-11-01</td>\n",
       "      <td>2.0</td>\n",
       "      <td>1782.0</td>\n",
       "    </tr>\n",
       "    <tr>\n",
       "      <th>64470866</th>\n",
       "      <td>4477607</td>\n",
       "      <td>21</td>\n",
       "      <td>86</td>\n",
       "      <td>174</td>\n",
       "      <td>2260</td>\n",
       "      <td>6955</td>\n",
       "      <td>287</td>\n",
       "      <td>2019-11-01</td>\n",
       "      <td>2.0</td>\n",
       "      <td>1398.0</td>\n",
       "    </tr>\n",
       "    <tr>\n",
       "      <th>26066827</th>\n",
       "      <td>1070446</td>\n",
       "      <td>2</td>\n",
       "      <td>178</td>\n",
       "      <td>1397</td>\n",
       "      <td>2592</td>\n",
       "      <td>7930</td>\n",
       "      <td>111</td>\n",
       "      <td>2019-11-01</td>\n",
       "      <td>2.0</td>\n",
       "      <td>9680.0</td>\n",
       "    </tr>\n",
       "    <tr>\n",
       "      <th>30292643</th>\n",
       "      <td>296920</td>\n",
       "      <td>1</td>\n",
       "      <td>178</td>\n",
       "      <td>892</td>\n",
       "      <td>1722</td>\n",
       "      <td>5227</td>\n",
       "      <td>140</td>\n",
       "      <td>2019-11-01</td>\n",
       "      <td>1.0</td>\n",
       "      <td>595.0</td>\n",
       "    </tr>\n",
       "  </tbody>\n",
       "</table>\n",
       "<p>86161530 rows × 10 columns</p>\n",
       "</div>"
      ],
      "text/plain": [
       "          Unnamed: 0  ProductFamily_ID  ProductCategory_ID  ProductBrand_ID  \\\n",
       "50001740        7765                 1                  33             1092   \n",
       "34562341     4566618                21                  22             1425   \n",
       "64625282     4632023                21                 122              779   \n",
       "28760279     3763898                14                  27              226   \n",
       "19114554     4116538                16                  11              950   \n",
       "...              ...               ...                 ...              ...   \n",
       "56986227     1992745                 9                 178             1066   \n",
       "57773839     2780357                12                 178              381   \n",
       "64470866     4477607                21                  86              174   \n",
       "26066827     1070446                 2                 178             1397   \n",
       "30292643      296920                 1                 178              892   \n",
       "\n",
       "          ProductName_ID  ProductPackSKU_ID  Point-of-Sale_ID       Date  \\\n",
       "50001740            2008               6099               240 2016-01-01   \n",
       "34562341            2665               8218               123 2016-01-01   \n",
       "64625282            1514               4620               282 2016-01-01   \n",
       "28760279             481               1572               110 2016-01-01   \n",
       "19114554            1807               5457                78 2016-01-01   \n",
       "...                  ...                ...               ...        ...   \n",
       "56986227            1976               6023               260 2019-11-01   \n",
       "57773839             770               2318               260 2019-11-01   \n",
       "64470866            2260               6955               287 2019-11-01   \n",
       "26066827            2592               7930               111 2019-11-01   \n",
       "30292643            1722               5227               140 2019-11-01   \n",
       "\n",
       "          units  values  \n",
       "50001740    1.0   450.0  \n",
       "34562341    3.0  2580.0  \n",
       "64625282    1.0  7899.0  \n",
       "28760279    4.0  2510.0  \n",
       "19114554    1.0   780.0  \n",
       "...         ...     ...  \n",
       "56986227    1.0   950.0  \n",
       "57773839    2.0  1782.0  \n",
       "64470866    2.0  1398.0  \n",
       "26066827    2.0  9680.0  \n",
       "30292643    1.0   595.0  \n",
       "\n",
       "[86161530 rows x 10 columns]"
      ]
     },
     "execution_count": 6,
     "metadata": {
      "tags": []
     },
     "output_type": "execute_result"
    }
   ],
   "source": [
    "df = retail_df.sort_values(by='Date',ascending=True)\n",
    "df"
   ]
  },
  {
   "cell_type": "code",
   "execution_count": null,
   "metadata": {
    "id": "z6wXcRphhU4s"
   },
   "outputs": [],
   "source": [
    "df=df.drop(columns=\"Unnamed: 0\")"
   ]
  },
  {
   "cell_type": "code",
   "execution_count": null,
   "metadata": {
    "id": "2dnf7MynhU4s"
   },
   "outputs": [],
   "source": [
    "df.to_csv(r'C:\\Users\\sorai\\Downloads\\df_final.csv')"
   ]
  }
 ],
 "metadata": {
  "colab": {
   "name": "Construction_of_the_final_dataset.ipynb",
   "provenance": []
  },
  "kernelspec": {
   "display_name": "Python 3",
   "language": "python",
   "name": "python3"
  },
  "language_info": {
   "codemirror_mode": {
    "name": "ipython",
    "version": 3
   },
   "file_extension": ".py",
   "mimetype": "text/x-python",
   "name": "python",
   "nbconvert_exporter": "python",
   "pygments_lexer": "ipython3",
   "version": "3.8.3"
  }
 },
 "nbformat": 4,
 "nbformat_minor": 1
}
